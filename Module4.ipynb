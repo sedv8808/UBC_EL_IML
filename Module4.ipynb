{
 "cells": [
  {
   "cell_type": "markdown",
   "id": "d5262400-414a-41f2-902d-fbb21ffa887e",
   "metadata": {},
   "source": [
    "### UBC Extended Learning\n",
    "#### Instructor: Socorro Dominguez\n",
    "#### Module 04"
   ]
  },
  {
   "cell_type": "markdown",
   "id": "c8a17ea1-1b59-40c2-852c-f10750b046fe",
   "metadata": {},
   "source": [
    "Overview:\n",
    "\n",
    "- [] Explain the notion of similarity-based algorithms.\n",
    "- [] Broadly describe how 𝑘-NNs use distances.\n",
    "- [] Describe the effect of using a small/large value of the hyperparameter 𝑘 when using the 𝑘-NN algorithm.\n",
    "- [] Explain the problem of curse of dimensionality.\n",
    "- [] Explain the general idea of SVMs with RBF kernel.\n",
    "- [] Compare and contrast 𝑘-NNs and SVM RBFs.\n",
    "- [] Broadly describe the relation of gamma and C hyperparameters with the fundamental tradeoff."
   ]
  },
  {
   "cell_type": "markdown",
   "id": "a6b9ba36-bded-4539-816f-edf16355ccb9",
   "metadata": {},
   "source": [
    "### Euclidean Distance"
   ]
  },
  {
   "cell_type": "markdown",
   "id": "106fe9f6-eecd-4654-842c-268aae710a1a",
   "metadata": {},
   "source": [
    "$d(\\mathbf {p,q})= \\sqrt{\\sum \\limits_{i=1}^n (q_i-p_i)^2}$"
   ]
  },
  {
   "cell_type": "markdown",
   "id": "3ce79d14-f05b-487b-ac22-9c510e03d848",
   "metadata": {},
   "source": [
    "### K-NN"
   ]
  },
  {
   "cell_type": "markdown",
   "id": "f2d8bec6-1a86-4ba7-882f-095042cbf75a",
   "metadata": {},
   "source": [
    "- K-NN is a simple yet powerful machine learning algorithm used for both classification and regression tasks.\n",
    "\n",
    "**What is K-NN?**\n",
    "- K-NN is a non-parametric algorithm that makes predictions based on the similarity between input data points.\n",
    "- It belongs to the instance-based learning family, where the model doesn't explicitly learn a function, but instead, stores the training instances to make predictions.\n",
    "- The algorithm assumes that similar instances exist in close proximity to each other in the feature space.\n",
    "\n",
    "**How does K-NN work?**\n",
    "- K-NN works in the following steps:\n",
    "  1. Load the training dataset.\n",
    "  2. Choose the value of K (the number of nearest neighbors to consider).\n",
    "  3. For each unseen instance:\n",
    "     - Calculate the distance (e.g., Euclidean distance) between the instance and all training data points.\n",
    "     - Select the K nearest neighbors based on the calculated distances.\n",
    "     - Assign the class (for classification) or calculate the average value (for regression) of the K nearest neighbors as the predicted output.\n",
    "     - Output the predicted class or value.\n",
    "     \n",
    "![](https://upload.wikimedia.org/wikipedia/commons/thumb/e/e7/KnnClassification.svg/220px-KnnClassification.svg.png)"
   ]
  },
  {
   "cell_type": "markdown",
   "id": "c4ec2d10-1422-4eca-8984-249a0750a141",
   "metadata": {},
   "source": [
    "\n",
    "**Example: Classifying Fruits**\n",
    "- Let's consider a simple example of classifying fruits based on their weight and color.\n",
    "- We have a dataset of fruits with three classes: Apples, Oranges, and Bananas.\n",
    "- The dataset contains features such as weight (in grams) and color (1 for red, 2 for orange, 3 for yellow).\n",
    "- Our task is to classify a new fruit based on its weight and color.\n",
    "\n",
    "**Dataset Visualization**\n",
    "- We visualize the training dataset on a scatter plot.\n",
    "- Each point represents a fruit, with its weight on the x-axis and color on the y-axis.\n",
    "- Apples are marked in red, oranges in orange, and bananas in yellow."
   ]
  },
  {
   "cell_type": "code",
   "execution_count": 2,
   "id": "52e1ac95-ed23-485b-a452-0f6e1377520b",
   "metadata": {},
   "outputs": [
    {
     "data": {
      "image/png": "[encoded data removed]",
      "text/plain": [
       "<Figure size 800x600 with 1 Axes>"
      ]
     },
     "metadata": {},
     "output_type": "display_data"
    }
   ],
   "source": [
    "import matplotlib.pyplot as plt\n",
    "\n",
    "# Example data\n",
    "fruits = {\n",
    "    'Apples': {'weight': [120, 140, 150, 160], 'color': [1, 1, 3, 1]},\n",
    "    'Oranges': {'weight': [200, 210, 220, 230], 'color': [2, 2, 2, 2]},\n",
    "    'Bananas': {'weight': [300, 310, 320, 330], 'color': [3, 3, 3, 3]}\n",
    "}\n",
    "\n",
    "# Scatter plot\n",
    "plt.figure(figsize=(8, 6))\n",
    "for fruit, data in fruits.items():\n",
    "    plt.scatter(data['weight'], data['color'], label=fruit)\n",
    "plt.xlabel('Weight (grams)')\n",
    "plt.ylabel('Color')\n",
    "plt.title('Fruit Classification')\n",
    "plt.legend()\n",
    "plt.grid(True)\n",
    "plt.show()"
   ]
  },
  {
   "cell_type": "markdown",
   "id": "db7df004-7fda-44c4-bea1-2b26a1ffff4f",
   "metadata": {},
   "source": [
    "**Finding Nearest Neighbors**\n",
    "- Suppose we have a new fruit with weight 150g and color code 2 (orange).\n",
    "- We choose a value for K, let's say K = 3.\n",
    "- The algorithm calculates the distances between the new fruit and all the training instances.\n",
    "- The three closest fruits (nearest neighbors) are selected based on the distances.\n",
    "\n",
    "**Voting for Classification**\n",
    "- Since we are performing classification, we consider the majority class of the nearest neighbors.\n",
    "- Let's assume the three nearest neighbors are Apple, Orange, and Orange.\n",
    "- Based on majority voting, the predicted class for the new fruit is Orange."
   ]
  },
  {
   "cell_type": "code",
   "execution_count": 8,
   "id": "3d2db978-e0ba-45bb-8ed5-93edb81b1a01",
   "metadata": {},
   "outputs": [],
   "source": [
    "import numpy as np\n",
    "from sklearn.neighbors import KNeighborsClassifier\n",
    "\n",
    "# Finding Nearest Neighbors\n",
    "# Example data\n",
    "X_train = [[130, 1], [140, 1], [150, 3], [160, 1]]\n",
    "y_train = ['Apple', 'Apple', 'Orange', 'Orange']"
   ]
  },
  {
   "cell_type": "code",
   "execution_count": 5,
   "id": "89773974-22a8-4d4e-bd01-2f2e9e60b70d",
   "metadata": {},
   "outputs": [],
   "source": [
    "# Create a new instance\n",
    "X_new = np.array([[150, 2]])\n",
    "\n"
   ]
  },
  {
   "cell_type": "code",
   "execution_count": 9,
   "id": "a2d709c3-e221-455a-ba34-41c06f66662a",
   "metadata": {},
   "outputs": [
    {
     "name": "stdout",
     "output_type": "stream",
     "text": [
      "Predicted class: Orange\n"
     ]
    }
   ],
   "source": [
    "# Create and fit the K-NN classifier\n",
    "k = 3\n",
    "knn = KNeighborsClassifier(n_neighbors=k)\n",
    "knn.fit(X_train, y_train)\n",
    "\n",
    "# Predict the class of the new instance\n",
    "prediction = knn.predict(X_new)\n",
    "\n",
    "print(f\"Predicted class: {prediction[0]}\")"
   ]
  },
  {
   "cell_type": "markdown",
   "id": "5c7ab82f-3279-4323-8215-2e8e26e2fba5",
   "metadata": {},
   "source": [
    "**Pros and Cons**\n",
    "- Pros of K-NN:\n",
    "  - Simple and intuitive algorithm.\n",
    "  - No assumption about the underlying data distribution.\n",
    "  - Can handle multi-class classification and regression tasks.\n",
    "- Cons of K-NN:\n",
    "  - Computationally expensive for large datasets.\n",
    "  - Sensitivity to irrelevant features.\n",
    "  - Requires proper scaling of features.\n",
    "\n",
    "**Conclusion**\n",
    "- K-Nearest Neighbors (K-NN) is a popular machine learning algorithm for classification and regression tasks.\n",
    "- It predicts the class or value of an unseen instance based on the similarity to its K nearest neighbors.\n",
    "- By understanding K-NN, we can leverage its simplicity and versatility to solve various real-world problems."
   ]
  },
  {
   "cell_type": "markdown",
   "id": "1bc5b0b2-e107-4aa1-b9aa-5867a66e9651",
   "metadata": {},
   "source": [
    "### SVM"
   ]
  },
  {
   "cell_type": "markdown",
   "id": "e3a92b82-98e4-4dc5-ba7a-2919efd247fa",
   "metadata": {},
   "source": [
    "- SVM is also used for both classification and regression tasks.\n",
    "\n",
    "**What is SVM?**\n",
    "- Support Vector Machines (SVM) is a linear model that separates classes by finding the best hyperplane in a high-dimensional feature space.\n",
    "- It is based on the concept of maximum margin, which aims to maximize the distance between the separating hyperplane and the nearest data points.\n",
    "- SVM can handle both linearly separable and non-linearly separable data using different kernel functions.\n",
    "\n",
    "**How does SVM work?**\n",
    "- SVM works in the following steps:\n",
    "  1. Load the training dataset.\n",
    "  2. Define the kernel function and parameters.\n",
    "  3. Find the optimal hyperplane that maximizes the margin between classes.\n",
    "  4. Classify new instances by determining which side of the hyperplane they belong to.\n",
    "\n",
    "![](https://upload.wikimedia.org/wikipedia/commons/thumb/7/72/SVM_margin.png/600px-SVM_margin.png)"
   ]
  },
  {
   "cell_type": "markdown",
   "id": "018d797b-5fc5-4a27-bc3c-fde952dd6124",
   "metadata": {},
   "source": [
    "**Linear SVM**\n",
    "- In the case of linearly separable data, SVM finds a linear hyperplane that separates the classes.\n",
    "- The hyperplane is determined by the support vectors, which lie closest to the decision boundary.\n",
    "\n",
    "**Non-Linear SVM**\n",
    "- SVM can handle non-linearly separable data by using kernel functions.\n",
    "- Kernel functions transform the data into a higher-dimensional space, where a linear hyperplane can separate the classes.\n",
    "- Popular kernel functions include the Gaussian (RBF) kernel and polynomial kernel.\n",
    "\n",
    "**Decision Boundary**\n",
    "- The decision boundary is the line, curve, or surface that separates the classes in the feature space.\n",
    "- SVM aims to find the decision boundary that generalizes well to unseen data.\n",
    "\n",
    "**Pros and Cons**\n",
    "- Pros of SVM:\n",
    "  - Effective in high-dimensional spaces.\n",
    "  - Can handle both linearly separable and non-linearly separable data.\n",
    "  - Provides good generalization ability with the maximum margin concept.\n",
    "- Cons of SVM:\n",
    "  - Computationally expensive for large datasets.\n",
    "  - Sensitivity to the choice of kernel and parameters.\n",
    "  - Can be difficult to interpret the resulting model."
   ]
  },
  {
   "cell_type": "code",
   "execution_count": null,
   "id": "bb5da810-3405-408e-a688-2fe8991deccf",
   "metadata": {},
   "outputs": [],
   "source": []
  }
 ],
 "metadata": {
  "kernelspec": {
   "display_name": "Python 3 (ipykernel)",
   "language": "python",
   "name": "python3"
  },
  "language_info": {
   "codemirror_mode": {
    "name": "ipython",
    "version": 3
   },
   "file_extension": ".py",
   "mimetype": "text/x-python",
   "name": "python",
   "nbconvert_exporter": "python",
   "pygments_lexer": "ipython3",
   "version": "3.9.12"
  }
 },
 "nbformat": 4,
 "nbformat_minor": 5
}
