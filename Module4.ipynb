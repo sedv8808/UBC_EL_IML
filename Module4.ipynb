{
 "cells": [
  {
   "cell_type": "markdown",
   "id": "d5262400-414a-41f2-902d-fbb21ffa887e",
   "metadata": {},
   "source": [
    "# UBC\n",
    "## Intro to Machine Learning\n",
    "### Module 4\n",
    "Instructor: Socorro Dominguez-Vidana"
   ]
  },
  {
   "cell_type": "markdown",
   "id": "c8a17ea1-1b59-40c2-852c-f10750b046fe",
   "metadata": {},
   "source": [
    "Overview:\n",
    "\n",
    "- [] Explain the notion of similarity-based algorithms.\n",
    "- [] Broadly describe how 𝑘-NNs use distances.\n",
    "- [] Describe the effect of using a small/large value of the hyperparameter 𝑘 when using the 𝑘-NN algorithm.\n",
    "- [] Explain the problem of curse of dimensionality."
   ]
  },
  {
   "cell_type": "markdown",
   "id": "a6b9ba36-bded-4539-816f-edf16355ccb9",
   "metadata": {},
   "source": [
    "### Euclidean Distance"
   ]
  },
  {
   "cell_type": "markdown",
   "id": "106fe9f6-eecd-4654-842c-268aae710a1a",
   "metadata": {},
   "source": [
    "$d(\\mathbf {p,q})= \\sqrt{\\sum \\limits_{i=1}^n (q_i-p_i)^2}$\n",
    "\n",
    "For 2 given points:\n",
    "\n",
    "$P_1(3, 4)$ , $P_2(7, 1)$  \n",
    "​  \n",
    "$d = \\sqrt{(x_2 - x_1)^2 + (y_2 - y_1)^2}$\n",
    "\n",
    "$d = \\sqrt{(7 - 3)^2 + (1 - 4)^2} = \\sqrt{4^2 + (-3)^2} = \\sqrt{16 + 9} = \\sqrt{25} = 5$\n",
    "\n",
    "\n"
   ]
  },
  {
   "cell_type": "markdown",
   "id": "f2d8bec6-1a86-4ba7-882f-095042cbf75a",
   "metadata": {},
   "source": [
    "### K-NN\n",
    "- Used for both classification and regression tasks.\n",
    "\n",
    "**What is K-NN?**\n",
    "- K-NN is a non-parametric algorithm\n",
    "    - We don't need to know what the data distribution looks like.\n",
    "    -  The model makes predictions based on the similarity between input data points.\n",
    "- The model doesn't explicitly learn a function.\n",
    "    - The algorithm assumes that similar observations exist in close proximity to each other.\n",
    "\n",
    "**How does K-NN work?**\n",
    "- K-NN works in the following steps:\n",
    "  1. Load the training dataset.\n",
    "  2. Choose the value of K (the number of nearest neighbors to consider).\n",
    "  3. For each unseen instance:\n",
    "     - Calculate the distance (e.g., Euclidean distance) between the instance and all training data points.\n",
    "     - Select the K nearest neighbors based on the calculated distances.\n",
    "     - Assign the class (for classification) or calculate the average value (for regression) of the K nearest neighbors as the predicted output.\n",
    "     - Output the predicted class or value.\n",
    "     \n",
    "![](https://upload.wikimedia.org/wikipedia/commons/thumb/e/e7/KnnClassification.svg/220px-KnnClassification.svg.png)"
   ]
  },
  {
   "cell_type": "markdown",
   "id": "c4ec2d10-1422-4eca-8984-249a0750a141",
   "metadata": {},
   "source": [
    "\n",
    "**Example: Classifying Fruits**\n",
    "- Let's consider a simple example of classifying fruits based on their weight and color.\n",
    "- We have a dataset of fruits with three classes: Apples, Oranges, and Bananas.\n",
    "- The dataset contains features such as weight (in grams) and color (1 for red, 2 for orange, 3 for yellow).\n",
    "- Our task is to classify a new fruit based on its weight and color.\n",
    "\n",
    "**Dataset Visualization**\n",
    "- We visualize the training dataset on a scatter plot.\n",
    "- Each point represents a fruit, with its weight on the x-axis and color on the y-axis.\n",
    "- Apples are marked in red, oranges in orange, and bananas in yellow."
   ]
  },
  {
   "cell_type": "code",
   "execution_count": 1,
   "id": "52e1ac95-ed23-485b-a452-0f6e1377520b",
   "metadata": {},
   "outputs": [
    {
     "data": {
      "text/html": [
       "<div>\n",
       "<style scoped>\n",
       "    .dataframe tbody tr th:only-of-type {\n",
       "        vertical-align: middle;\n",
       "    }\n",
       "\n",
       "    .dataframe tbody tr th {\n",
       "        vertical-align: top;\n",
       "    }\n",
       "\n",
       "    .dataframe thead th {\n",
       "        text-align: right;\n",
       "    }\n",
       "</style>\n",
       "<table border=\"1\" class=\"dataframe\">\n",
       "  <thead>\n",
       "    <tr style=\"text-align: right;\">\n",
       "      <th></th>\n",
       "      <th>Fruit</th>\n",
       "      <th>Weight</th>\n",
       "      <th>Color</th>\n",
       "    </tr>\n",
       "  </thead>\n",
       "  <tbody>\n",
       "    <tr>\n",
       "      <th>0</th>\n",
       "      <td>Apples</td>\n",
       "      <td>120</td>\n",
       "      <td>1</td>\n",
       "    </tr>\n",
       "    <tr>\n",
       "      <th>1</th>\n",
       "      <td>Apples</td>\n",
       "      <td>140</td>\n",
       "      <td>1</td>\n",
       "    </tr>\n",
       "    <tr>\n",
       "      <th>2</th>\n",
       "      <td>Apples</td>\n",
       "      <td>150</td>\n",
       "      <td>3</td>\n",
       "    </tr>\n",
       "    <tr>\n",
       "      <th>3</th>\n",
       "      <td>Apples</td>\n",
       "      <td>160</td>\n",
       "      <td>1</td>\n",
       "    </tr>\n",
       "    <tr>\n",
       "      <th>4</th>\n",
       "      <td>Oranges</td>\n",
       "      <td>200</td>\n",
       "      <td>2</td>\n",
       "    </tr>\n",
       "    <tr>\n",
       "      <th>5</th>\n",
       "      <td>Oranges</td>\n",
       "      <td>210</td>\n",
       "      <td>2</td>\n",
       "    </tr>\n",
       "    <tr>\n",
       "      <th>6</th>\n",
       "      <td>Oranges</td>\n",
       "      <td>220</td>\n",
       "      <td>2</td>\n",
       "    </tr>\n",
       "    <tr>\n",
       "      <th>7</th>\n",
       "      <td>Oranges</td>\n",
       "      <td>230</td>\n",
       "      <td>2</td>\n",
       "    </tr>\n",
       "    <tr>\n",
       "      <th>8</th>\n",
       "      <td>Bananas</td>\n",
       "      <td>300</td>\n",
       "      <td>3</td>\n",
       "    </tr>\n",
       "    <tr>\n",
       "      <th>9</th>\n",
       "      <td>Bananas</td>\n",
       "      <td>310</td>\n",
       "      <td>3</td>\n",
       "    </tr>\n",
       "    <tr>\n",
       "      <th>10</th>\n",
       "      <td>Bananas</td>\n",
       "      <td>320</td>\n",
       "      <td>3</td>\n",
       "    </tr>\n",
       "    <tr>\n",
       "      <th>11</th>\n",
       "      <td>Bananas</td>\n",
       "      <td>330</td>\n",
       "      <td>3</td>\n",
       "    </tr>\n",
       "  </tbody>\n",
       "</table>\n",
       "</div>"
      ],
      "text/plain": [
       "      Fruit  Weight  Color\n",
       "0    Apples     120      1\n",
       "1    Apples     140      1\n",
       "2    Apples     150      3\n",
       "3    Apples     160      1\n",
       "4   Oranges     200      2\n",
       "5   Oranges     210      2\n",
       "6   Oranges     220      2\n",
       "7   Oranges     230      2\n",
       "8   Bananas     300      3\n",
       "9   Bananas     310      3\n",
       "10  Bananas     320      3\n",
       "11  Bananas     330      3"
      ]
     },
     "execution_count": 1,
     "metadata": {},
     "output_type": "execute_result"
    }
   ],
   "source": [
    "import pandas as pd\n",
    "import matplotlib.pyplot as plt\n",
    "\n",
    "data = {\n",
    "    'Fruit': ['Apples', 'Apples', 'Apples', 'Apples',\n",
    "              'Oranges', 'Oranges', 'Oranges', 'Oranges',\n",
    "              'Bananas', 'Bananas', 'Bananas', 'Bananas'],\n",
    "    'Weight': [120, 140, 150, 160, 200, 210, 220, 230, 300, 310, 320, 330],\n",
    "    'Color': [1, 1, 3, 1, 2, 2, 2, 2, 3, 3, 3, 3]\n",
    "}\n",
    "\n",
    "df = pd.DataFrame(data)\n",
    "df"
   ]
  },
  {
   "cell_type": "code",
   "execution_count": 8,
   "id": "6c892fa9-9707-401a-b997-81af4b41c96c",
   "metadata": {},
   "outputs": [
    {
     "data": {
      "image/png": "[encoded data removed]",
      "text/plain": [
       "<Figure size 800x600 with 1 Axes>"
      ]
     },
     "metadata": {},
     "output_type": "display_data"
    }
   ],
   "source": [
    "\n",
    "plt.figure(figsize=(8, 6))\n",
    "for fruit, group in df.groupby('Fruit'):\n",
    "    plt.scatter(group['Weight'], group['Color'], label=fruit)\n",
    "plt.xlabel('Weight (grams)')\n",
    "plt.ylabel('Color')\n",
    "plt.title('Fruit Classification')\n",
    "plt.legend()\n",
    "plt.grid(True)\n",
    "plt.show()"
   ]
  },
  {
   "cell_type": "markdown",
   "id": "db7df004-7fda-44c4-bea1-2b26a1ffff4f",
   "metadata": {},
   "source": [
    "**Finding Nearest Neighbors**\n",
    "- Suppose we have a new fruit with weight 150g and color code 2 (orange).\n",
    "- We choose a value for K, let's say K = 3.\n",
    "- The algorithm calculates the distances between the new fruit and all the training instances.\n",
    "- The three closest fruits (nearest neighbors) are selected based on the distances.\n",
    "\n",
    "**Voting for Classification**\n",
    "- Since we are performing classification, we consider the majority class of the nearest neighbors.\n",
    "- Let's assume the three nearest neighbors are Apple, Orange, and Orange.\n",
    "- Based on majority voting, the predicted class for the new fruit is Orange."
   ]
  },
  {
   "cell_type": "code",
   "execution_count": 2,
   "id": "3d2db978-e0ba-45bb-8ed5-93edb81b1a01",
   "metadata": {},
   "outputs": [],
   "source": [
    "import numpy as np\n",
    "from sklearn.neighbors import KNeighborsClassifier\n",
    "\n",
    "# Split the data into features & target\n",
    "X = df[['Weight', 'Color']]\n",
    "y = df['Fruit']"
   ]
  },
  {
   "cell_type": "code",
   "execution_count": 3,
   "id": "5b23a8f9-9f44-482d-b313-387f22e4fc2a",
   "metadata": {},
   "outputs": [
    {
     "data": {
      "text/html": [
       "<style>#sk-container-id-1 {color: black;background-color: white;}#sk-container-id-1 pre{padding: 0;}#sk-container-id-1 div.sk-toggleable {background-color: white;}#sk-container-id-1 label.sk-toggleable__label {cursor: pointer;display: block;width: 100%;margin-bottom: 0;padding: 0.3em;box-sizing: border-box;text-align: center;}#sk-container-id-1 label.sk-toggleable__label-arrow:before {content: \"▸\";float: left;margin-right: 0.25em;color: #696969;}#sk-container-id-1 label.sk-toggleable__label-arrow:hover:before {color: black;}#sk-container-id-1 div.sk-estimator:hover label.sk-toggleable__label-arrow:before {color: black;}#sk-container-id-1 div.sk-toggleable__content {max-height: 0;max-width: 0;overflow: hidden;text-align: left;background-color: #f0f8ff;}#sk-container-id-1 div.sk-toggleable__content pre {margin: 0.2em;color: black;border-radius: 0.25em;background-color: #f0f8ff;}#sk-container-id-1 input.sk-toggleable__control:checked~div.sk-toggleable__content {max-height: 200px;max-width: 100%;overflow: auto;}#sk-container-id-1 input.sk-toggleable__control:checked~label.sk-toggleable__label-arrow:before {content: \"▾\";}#sk-container-id-1 div.sk-estimator input.sk-toggleable__control:checked~label.sk-toggleable__label {background-color: #d4ebff;}#sk-container-id-1 div.sk-label input.sk-toggleable__control:checked~label.sk-toggleable__label {background-color: #d4ebff;}#sk-container-id-1 input.sk-hidden--visually {border: 0;clip: rect(1px 1px 1px 1px);clip: rect(1px, 1px, 1px, 1px);height: 1px;margin: -1px;overflow: hidden;padding: 0;position: absolute;width: 1px;}#sk-container-id-1 div.sk-estimator {font-family: monospace;background-color: #f0f8ff;border: 1px dotted black;border-radius: 0.25em;box-sizing: border-box;margin-bottom: 0.5em;}#sk-container-id-1 div.sk-estimator:hover {background-color: #d4ebff;}#sk-container-id-1 div.sk-parallel-item::after {content: \"\";width: 100%;border-bottom: 1px solid gray;flex-grow: 1;}#sk-container-id-1 div.sk-label:hover label.sk-toggleable__label {background-color: #d4ebff;}#sk-container-id-1 div.sk-serial::before {content: \"\";position: absolute;border-left: 1px solid gray;box-sizing: border-box;top: 0;bottom: 0;left: 50%;z-index: 0;}#sk-container-id-1 div.sk-serial {display: flex;flex-direction: column;align-items: center;background-color: white;padding-right: 0.2em;padding-left: 0.2em;position: relative;}#sk-container-id-1 div.sk-item {position: relative;z-index: 1;}#sk-container-id-1 div.sk-parallel {display: flex;align-items: stretch;justify-content: center;background-color: white;position: relative;}#sk-container-id-1 div.sk-item::before, #sk-container-id-1 div.sk-parallel-item::before {content: \"\";position: absolute;border-left: 1px solid gray;box-sizing: border-box;top: 0;bottom: 0;left: 50%;z-index: -1;}#sk-container-id-1 div.sk-parallel-item {display: flex;flex-direction: column;z-index: 1;position: relative;background-color: white;}#sk-container-id-1 div.sk-parallel-item:first-child::after {align-self: flex-end;width: 50%;}#sk-container-id-1 div.sk-parallel-item:last-child::after {align-self: flex-start;width: 50%;}#sk-container-id-1 div.sk-parallel-item:only-child::after {width: 0;}#sk-container-id-1 div.sk-dashed-wrapped {border: 1px dashed gray;margin: 0 0.4em 0.5em 0.4em;box-sizing: border-box;padding-bottom: 0.4em;background-color: white;}#sk-container-id-1 div.sk-label label {font-family: monospace;font-weight: bold;display: inline-block;line-height: 1.2em;}#sk-container-id-1 div.sk-label-container {text-align: center;}#sk-container-id-1 div.sk-container {/* jupyter's `normalize.less` sets `[hidden] { display: none; }` but bootstrap.min.css set `[hidden] { display: none !important; }` so we also need the `!important` here to be able to override the default hidden behavior on the sphinx rendered scikit-learn.org. See: https://github.com/scikit-learn/scikit-learn/issues/21755 */display: inline-block !important;position: relative;}#sk-container-id-1 div.sk-text-repr-fallback {display: none;}</style><div id=\"sk-container-id-1\" class=\"sk-top-container\"><div class=\"sk-text-repr-fallback\"><pre>KNeighborsClassifier(n_neighbors=3)</pre><b>In a Jupyter environment, please rerun this cell to show the HTML representation or trust the notebook. <br />On GitHub, the HTML representation is unable to render, please try loading this page with nbviewer.org.</b></div><div class=\"sk-container\" hidden><div class=\"sk-item\"><div class=\"sk-estimator sk-toggleable\"><input class=\"sk-toggleable__control sk-hidden--visually\" id=\"sk-estimator-id-1\" type=\"checkbox\" checked><label for=\"sk-estimator-id-1\" class=\"sk-toggleable__label sk-toggleable__label-arrow\">KNeighborsClassifier</label><div class=\"sk-toggleable__content\"><pre>KNeighborsClassifier(n_neighbors=3)</pre></div></div></div></div></div>"
      ],
      "text/plain": [
       "KNeighborsClassifier(n_neighbors=3)"
      ]
     },
     "execution_count": 3,
     "metadata": {},
     "output_type": "execute_result"
    }
   ],
   "source": [
    "# Create a KNN classifier\n",
    "knn = KNeighborsClassifier(n_neighbors=3)\n",
    "\n",
    "# Fitting to all data because of the purpose/simplicity of the exercise.\n",
    "knn.fit(X, y)"
   ]
  },
  {
   "cell_type": "code",
   "execution_count": 4,
   "id": "6fa11025-7b57-4827-be97-ebd55a8f8f25",
   "metadata": {},
   "outputs": [
    {
     "data": {
      "text/plain": [
       "Weight    140\n",
       "Color       1\n",
       "Name: 1, dtype: int64"
      ]
     },
     "execution_count": 4,
     "metadata": {},
     "output_type": "execute_result"
    }
   ],
   "source": [
    "X.iloc[1,:]"
   ]
  },
  {
   "cell_type": "code",
   "execution_count": 5,
   "id": "a2d709c3-e221-455a-ba34-41c06f66662a",
   "metadata": {},
   "outputs": [
    {
     "name": "stdout",
     "output_type": "stream",
     "text": [
      "Predicted class: ['Oranges']\n"
     ]
    }
   ],
   "source": [
    "X_new = pd.DataFrame({'Weight': [180],\n",
    "                      'Color': [2]})\n",
    "\n",
    "# Predict the class of the new instance\n",
    "prediction = knn.predict(X_new)\n",
    "\n",
    "print(f\"Predicted class: {prediction}\")"
   ]
  },
  {
   "cell_type": "code",
   "execution_count": 6,
   "id": "d6192574-b99d-4786-8944-4eee4e1a79bc",
   "metadata": {},
   "outputs": [
    {
     "data": {
      "text/plain": [
       "1.0"
      ]
     },
     "execution_count": 6,
     "metadata": {},
     "output_type": "execute_result"
    }
   ],
   "source": [
    "knn.score(X, y)"
   ]
  },
  {
   "cell_type": "markdown",
   "id": "5c7ab82f-3279-4323-8215-2e8e26e2fba5",
   "metadata": {},
   "source": [
    "**Pros and Cons**\n",
    "- Pros of K-NN:\n",
    "  - Simple and intuitive algorithm.\n",
    "  - No assumption about the underlying data distribution.\n",
    "  - Can handle multi-class classification and regression tasks.\n",
    "- Cons of K-NN:\n",
    "  - Computationally expensive for large datasets.\n",
    "  - Sensitivity to irrelevant features.\n",
    "  - Requires proper scaling of features (future modules)."
   ]
  },
  {
   "cell_type": "markdown",
   "id": "8f96a322-f7b2-4fa0-96ee-12af52deb200",
   "metadata": {},
   "source": [
    "The **curse of dimensionality** is that it becomes challenging to analyze and interpret data as the number of **features** increases. Some problems that may arise:\n",
    "\n",
    "1. **Similarity Measures**: KNN and other algorithms rely on **distance** metrics  to measure similarity. In high dimensions, these measures become less meaningful.\n",
    "\n",
    "2. **Data Sparsity**: Data points become sparse making any given data point far from most other points, making it hard to find patterns or clusters.\n",
    "\n",
    "3. **Overfitting**: In high-dimensional spaces, models can become excessively complex and overfit the training data. \n",
    "\n",
    "4. **Computational Complexityn**: With more dimensions, it may become computationally expensive or infeasible.\n",
    "   \n",
    "5. **Visualization Challenges**: High-dimensional data cannot be easily plotted or intuitively understood."
   ]
  },
  {
   "cell_type": "code",
   "execution_count": null,
   "id": "a1d76b86-1485-4dfb-a3c3-950b568dc62c",
   "metadata": {},
   "outputs": [],
   "source": []
  },
  {
   "cell_type": "code",
   "execution_count": null,
   "id": "a4c09f06-539f-48da-b1f1-1c3d9ff78955",
   "metadata": {},
   "outputs": [],
   "source": []
  },
  {
   "cell_type": "code",
   "execution_count": null,
   "id": "66e8d8e0-873d-4ea5-a26d-b86a7fb50701",
   "metadata": {},
   "outputs": [],
   "source": []
  },
  {
   "cell_type": "code",
   "execution_count": null,
   "id": "3c19cde0-6b32-481f-b690-84602bd8b9d1",
   "metadata": {},
   "outputs": [],
   "source": []
  },
  {
   "cell_type": "markdown",
   "id": "9fa5fa23-b4d9-40c2-8fee-8520e25e86c6",
   "metadata": {},
   "source": [
    "Overview II:\n",
    "- [] Explain the general idea of SVMs with RBF kernel.\n",
    "- [] Compare and contrast 𝑘-NNs and SVM RBFs.\n",
    "- [] Broadly describe the relation of gamma and C hyperparameters with the fundamental tradeoff."
   ]
  },
  {
   "cell_type": "markdown",
   "id": "1bc5b0b2-e107-4aa1-b9aa-5867a66e9651",
   "metadata": {},
   "source": [
    "### SVM"
   ]
  },
  {
   "cell_type": "markdown",
   "id": "e3a92b82-98e4-4dc5-ba7a-2919efd247fa",
   "metadata": {},
   "source": [
    "- SVM is also used for both classification and regression tasks.\n",
    "\n",
    "**What is SVM?**\n",
    "- Support Vector Machines (SVM) is a linear model that separates classes by finding the best hyperplane in a high-dimensional feature space.\n",
    "- It is based on the concept of maximum margin, which aims to maximize the distance between the separating hyperplane and the nearest data points.\n",
    "- SVM can handle both linearly separable and non-linearly separable data using different kernel functions.\n",
    "\n",
    "**How does SVM work?**\n",
    "- SVM works in the following steps:\n",
    "  1. Load the training dataset.\n",
    "  2. Define the kernel function and parameters.\n",
    "  3. Find the optimal hyperplane that maximizes the margin between classes.\n",
    "  4. Classify new instances by determining which side of the hyperplane they belong to.\n",
    "\n",
    "![](https://upload.wikimedia.org/wikipedia/commons/thumb/7/72/SVM_margin.png/600px-SVM_margin.png)"
   ]
  },
  {
   "cell_type": "markdown",
   "id": "018d797b-5fc5-4a27-bc3c-fde952dd6124",
   "metadata": {},
   "source": [
    "**Linear SVM**\n",
    "- In the case of linearly separable data, SVM finds a linear hyperplane that separates the classes.\n",
    "- The hyperplane is determined by the support vectors, which lie closest to the decision boundary.\n",
    "\n",
    "**Non-Linear SVM**\n",
    "- SVM can handle non-linearly separable data by using kernel functions.\n",
    "- Kernel functions transform the data into a higher-dimensional space, where a linear hyperplane can separate the classes.\n",
    "- Popular kernel functions include the Gaussian (RBF) kernel and polynomial kernel.\n",
    "\n",
    "**Decision Boundary**\n",
    "- The decision boundary is the line, curve, or surface that separates the classes in the feature space.\n",
    "- SVM aims to find the decision boundary that generalizes well to unseen data.\n",
    "\n",
    "**Pros and Cons**\n",
    "- Pros of SVM:\n",
    "  - Effective in high-dimensional spaces.\n",
    "  - Can handle both linearly separable and non-linearly separable data.\n",
    "  - Provides good generalization ability with the maximum margin concept.\n",
    "- Cons of SVM:\n",
    "  - Computationally expensive for large datasets.\n",
    "  - Sensitivity to the choice of kernel and parameters.\n",
    "  - Can be difficult to interpret the resulting model."
   ]
  },
  {
   "cell_type": "code",
   "execution_count": null,
   "id": "bb5da810-3405-408e-a688-2fe8991deccf",
   "metadata": {},
   "outputs": [],
   "source": []
  }
 ],
 "metadata": {
  "kernelspec": {
   "display_name": "Python 3 (ipykernel)",
   "language": "python",
   "name": "python3"
  },
  "language_info": {
   "codemirror_mode": {
    "name": "ipython",
    "version": 3
   },
   "file_extension": ".py",
   "mimetype": "text/x-python",
   "name": "python",
   "nbconvert_exporter": "python",
   "pygments_lexer": "ipython3",
   "version": "3.11.4"
  }
 },
 "nbformat": 4,
 "nbformat_minor": 5
}
