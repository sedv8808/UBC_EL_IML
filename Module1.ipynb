{
 "cells": [
  {
   "cell_type": "markdown",
   "id": "dfc09ee2-4d2f-432b-aa2a-e34c43f1f27d",
   "metadata": {},
   "source": [
    "# UBC\n",
    "## Introduction to Machine Learning\n",
    "\n",
    "### Week 1\n",
    "Instructor: Socorro Dominguez-Vidana"
   ]
  },
  {
   "cell_type": "markdown",
   "id": "6894be42-d03c-48be-8116-9e5315f5715e",
   "metadata": {},
   "source": [
    "### Module 1\n",
    "\n",
    "Overview:\n",
    "\n",
    "- [] Motivation to Study Machine Learning\n",
    "- [] Supervised vs. Unsupervised Learning\n",
    "- [] Classification vs. Regression Problems\n",
    "- [] Machine Learning Terminology\n",
    "- [] Baseline Models with DummyClassifier/DummyRegressor\n",
    "- [] Understanding `.fit()`, `.predict()`, and `.score()` in Machine Learning"
   ]
  },
  {
   "cell_type": "markdown",
   "id": "1644bafe-e9a5-49bb-9b84-a672becb0fd8",
   "metadata": {},
   "source": [
    "#### Motivation to Study Machine Learning\n",
    "\n",
    "- Machine learning allows computers to learn from data and make predictions or decisions without being explicitly programmed (main difference from traditional programming)\n",
    "\n",
    "- It's used in fields like healthcare, finance, autonomous vehicles, and more to solve complex problems."
   ]
  },
  {
   "cell_type": "markdown",
   "id": "abd78292-c8ca-4468-9aa2-7c8f92264d37",
   "metadata": {},
   "source": [
    "#### Supervised vs. Unsupervised Learning\n",
    "\n",
    "##### Supervised Learning\n",
    "\n",
    "- In supervised learning, the model is trained using labeled data.\n",
    "- It learns to map input data to the correct output, i.e., it learns a function.\n",
    "- **Example:** Predicting house prices based on features (area, bedrooms, etc.).\n",
    "\n",
    "##### Unsupervised Learning\n",
    "\n",
    "- In unsupervised learning, the model finds patterns or structure in data without labeled outputs.\n",
    "- It's often used for clustering and dimensionality reduction.\n",
    "- **Example:** Grouping similar customer behavior for targeted marketing.\n",
    "\n",
    "In this course, we will only talk about Supervised Learning."
   ]
  },
  {
   "cell_type": "markdown",
   "id": "c28c522f-ea1c-4796-afd5-ffa907565351",
   "metadata": {},
   "source": [
    "#### Supervised Learning\n",
    "- Divided into Classification and Regression Problems\n",
    "\n",
    "##### Classification\n",
    "\n",
    "- Classification is used to predicts a category or class label.\n",
    "- **Example:** Spam vs. Not Spam email classification.\n",
    "\n",
    "##### Regression\n",
    "\n",
    "- Regression allows us to predict a continuous numerical value.\n",
    "- **Example:** Predicting the price of a house."
   ]
  },
  {
   "cell_type": "markdown",
   "id": "19c17023-1dc3-45f8-825a-b377bc8418bf",
   "metadata": {},
   "source": [
    "##### Machine Learning Terminology\n",
    "\n",
    "- **Features**: Input variables or attributes used to make predictions.\n",
    "  - **Example:** In predicting house prices, features might include `square footage`, `number of bedrooms`, and `location`.\n",
    "\n",
    "- **Targets**: The output or the value we want to predict.\n",
    "  - In classification, it's the class label (e.g., spam or not spam).\n",
    "  - In regression, it's the numerical value (e.g., house price).\n",
    "\n",
    "- **Training**: The process of the model learning from the data.\n",
    "  - It optimizes internal parameters to make accurate predictions.\n",
    "\n",
    "- **Error**: The difference between the predicted output and the actual target.\n",
    "  - Reducing error is the goal of training."
   ]
  },
  {
   "cell_type": "markdown",
   "id": "50b21114-1e66-47c7-b56a-11e3ba909c36",
   "metadata": {},
   "source": [
    "#### Baseline Models with `DummyClassifier` / `DummyRegressor`\n",
    "\n",
    "- Before using complex models, we establish a baseline that we will want to improve.\n",
    "- DummyClassifier and DummyRegressor are simple models used for benchmarking.\n",
    "- Dummy models make predictions based on simple rules (e.g., random or most frequent class).\n",
    "- We learn them because they follow the same \"mechanical\" process as a \"real\" model in `sklearn`, the library we will be using.\n",
    "\n",
    "##### Example"
   ]
  },
  {
   "cell_type": "code",
   "execution_count": 1,
   "id": "9ef501c8-a11f-46bb-b58c-3b45088f79f0",
   "metadata": {},
   "outputs": [
    {
     "data": {
      "text/html": [
       "<div>\n",
       "<style scoped>\n",
       "    .dataframe tbody tr th:only-of-type {\n",
       "        vertical-align: middle;\n",
       "    }\n",
       "\n",
       "    .dataframe tbody tr th {\n",
       "        vertical-align: top;\n",
       "    }\n",
       "\n",
       "    .dataframe thead th {\n",
       "        text-align: right;\n",
       "    }\n",
       "</style>\n",
       "<table border=\"1\" class=\"dataframe\">\n",
       "  <thead>\n",
       "    <tr style=\"text-align: right;\">\n",
       "      <th></th>\n",
       "      <th>sepal length (cm)</th>\n",
       "      <th>sepal width (cm)</th>\n",
       "      <th>petal length (cm)</th>\n",
       "      <th>petal width (cm)</th>\n",
       "      <th>target</th>\n",
       "    </tr>\n",
       "  </thead>\n",
       "  <tbody>\n",
       "    <tr>\n",
       "      <th>0</th>\n",
       "      <td>5.1</td>\n",
       "      <td>3.5</td>\n",
       "      <td>1.4</td>\n",
       "      <td>0.2</td>\n",
       "      <td>0</td>\n",
       "    </tr>\n",
       "    <tr>\n",
       "      <th>1</th>\n",
       "      <td>4.9</td>\n",
       "      <td>3.0</td>\n",
       "      <td>1.4</td>\n",
       "      <td>0.2</td>\n",
       "      <td>0</td>\n",
       "    </tr>\n",
       "    <tr>\n",
       "      <th>2</th>\n",
       "      <td>4.7</td>\n",
       "      <td>3.2</td>\n",
       "      <td>1.3</td>\n",
       "      <td>0.2</td>\n",
       "      <td>0</td>\n",
       "    </tr>\n",
       "    <tr>\n",
       "      <th>3</th>\n",
       "      <td>4.6</td>\n",
       "      <td>3.1</td>\n",
       "      <td>1.5</td>\n",
       "      <td>0.2</td>\n",
       "      <td>0</td>\n",
       "    </tr>\n",
       "    <tr>\n",
       "      <th>4</th>\n",
       "      <td>5.0</td>\n",
       "      <td>3.6</td>\n",
       "      <td>1.4</td>\n",
       "      <td>0.2</td>\n",
       "      <td>0</td>\n",
       "    </tr>\n",
       "  </tbody>\n",
       "</table>\n",
       "</div>"
      ],
      "text/plain": [
       "   sepal length (cm)  sepal width (cm)  petal length (cm)  petal width (cm)   \n",
       "0                5.1               3.5                1.4               0.2  \\\n",
       "1                4.9               3.0                1.4               0.2   \n",
       "2                4.7               3.2                1.3               0.2   \n",
       "3                4.6               3.1                1.5               0.2   \n",
       "4                5.0               3.6                1.4               0.2   \n",
       "\n",
       "   target  \n",
       "0       0  \n",
       "1       0  \n",
       "2       0  \n",
       "3       0  \n",
       "4       0  "
      ]
     },
     "execution_count": 1,
     "metadata": {},
     "output_type": "execute_result"
    }
   ],
   "source": [
    "import pandas as pd\n",
    "from sklearn.dummy import DummyClassifier\n",
    "from sklearn.datasets import load_iris\n",
    "from sklearn.model_selection import train_test_split\n",
    "\n",
    "# Load the Iris dataset\n",
    "data = load_iris()\n",
    "\n",
    "# Create a DataFrame for the features\n",
    "iris_df = pd.DataFrame(data.data, columns=data.feature_names)\n",
    "\n",
    "# Create a Series for the target values\n",
    "target = pd.Series(data.target, name=\"target\")\n",
    "\n",
    "# Concatenate the features and target into a single DataFrame\n",
    "iris_df = pd.concat([iris_df, target], axis=1)\n",
    "iris_df.head()"
   ]
  },
  {
   "cell_type": "code",
   "execution_count": 2,
   "id": "c2c14839-26f6-4153-8d25-8da4bc9ac0a7",
   "metadata": {},
   "outputs": [
    {
     "name": "stdout",
     "output_type": "stream",
     "text": [
      "\n",
      "Features\n",
      "   sepal length (cm)  sepal width (cm)  petal length (cm)  petal width (cm)\n",
      "0                5.1               3.5                1.4               0.2\n",
      "1                4.9               3.0                1.4               0.2\n",
      "2                4.7               3.2                1.3               0.2\n",
      "\n",
      "Target\n",
      "0    0\n",
      "1    0\n",
      "2    0\n",
      "Name: target, dtype: int64\n"
     ]
    }
   ],
   "source": [
    "# Split the data into training and testing sets\n",
    "X = iris_df.drop(\"target\", axis=1)\n",
    "y = iris_df[\"target\"]\n",
    "X_train, X_test, y_train, y_test = train_test_split(X, y, test_size=0.2, random_state=42)\n",
    "print(\"\\n\"\"Features\")\n",
    "print(X.head(3))\n",
    "print(\"\\n\"\"Target\")\n",
    "print(y.head(3))"
   ]
  },
  {
   "cell_type": "code",
   "execution_count": 9,
   "id": "2558f9fe-e045-4d2d-9602-dbe7e9df15fc",
   "metadata": {},
   "outputs": [],
   "source": [
    "# Create a DummyClassifier\n",
    "dummy = DummyClassifier(strategy=\"most_frequent\", random_state=1)\n"
   ]
  },
  {
   "cell_type": "code",
   "execution_count": 7,
   "id": "74ca6b4d-57fc-4a6a-b196-0a531f5e82ae",
   "metadata": {},
   "outputs": [
    {
     "data": {
      "text/plain": [
       "target\n",
       "0    50\n",
       "1    50\n",
       "2    50\n",
       "Name: count, dtype: int64"
      ]
     },
     "execution_count": 7,
     "metadata": {},
     "output_type": "execute_result"
    }
   ],
   "source": [
    "iris_df['target'].value_counts()"
   ]
  },
  {
   "cell_type": "markdown",
   "id": "0beaf6b6-bc43-4b60-9c27-f16ddc1b6953",
   "metadata": {},
   "source": [
    "#### Understanding `.fit()`, `.predict()`, and `.score()` in Machine Learning\n",
    "\n",
    "- `.fit()` is used to train the model on the provided data.\n",
    "- `.predict()` makes predictions on new, unseen data.\n",
    "- `.score()` calculates a performance metric (e.g., accuracy, mean squared error) for the model."
   ]
  },
  {
   "cell_type": "code",
   "execution_count": 10,
   "id": "23a4f83c-7ad4-4734-b52b-d9dd0221b5b6",
   "metadata": {
    "scrolled": true
   },
   "outputs": [
    {
     "data": {
      "text/html": [
       "<style>#sk-container-id-2 {color: black;background-color: white;}#sk-container-id-2 pre{padding: 0;}#sk-container-id-2 div.sk-toggleable {background-color: white;}#sk-container-id-2 label.sk-toggleable__label {cursor: pointer;display: block;width: 100%;margin-bottom: 0;padding: 0.3em;box-sizing: border-box;text-align: center;}#sk-container-id-2 label.sk-toggleable__label-arrow:before {content: \"▸\";float: left;margin-right: 0.25em;color: #696969;}#sk-container-id-2 label.sk-toggleable__label-arrow:hover:before {color: black;}#sk-container-id-2 div.sk-estimator:hover label.sk-toggleable__label-arrow:before {color: black;}#sk-container-id-2 div.sk-toggleable__content {max-height: 0;max-width: 0;overflow: hidden;text-align: left;background-color: #f0f8ff;}#sk-container-id-2 div.sk-toggleable__content pre {margin: 0.2em;color: black;border-radius: 0.25em;background-color: #f0f8ff;}#sk-container-id-2 input.sk-toggleable__control:checked~div.sk-toggleable__content {max-height: 200px;max-width: 100%;overflow: auto;}#sk-container-id-2 input.sk-toggleable__control:checked~label.sk-toggleable__label-arrow:before {content: \"▾\";}#sk-container-id-2 div.sk-estimator input.sk-toggleable__control:checked~label.sk-toggleable__label {background-color: #d4ebff;}#sk-container-id-2 div.sk-label input.sk-toggleable__control:checked~label.sk-toggleable__label {background-color: #d4ebff;}#sk-container-id-2 input.sk-hidden--visually {border: 0;clip: rect(1px 1px 1px 1px);clip: rect(1px, 1px, 1px, 1px);height: 1px;margin: -1px;overflow: hidden;padding: 0;position: absolute;width: 1px;}#sk-container-id-2 div.sk-estimator {font-family: monospace;background-color: #f0f8ff;border: 1px dotted black;border-radius: 0.25em;box-sizing: border-box;margin-bottom: 0.5em;}#sk-container-id-2 div.sk-estimator:hover {background-color: #d4ebff;}#sk-container-id-2 div.sk-parallel-item::after {content: \"\";width: 100%;border-bottom: 1px solid gray;flex-grow: 1;}#sk-container-id-2 div.sk-label:hover label.sk-toggleable__label {background-color: #d4ebff;}#sk-container-id-2 div.sk-serial::before {content: \"\";position: absolute;border-left: 1px solid gray;box-sizing: border-box;top: 0;bottom: 0;left: 50%;z-index: 0;}#sk-container-id-2 div.sk-serial {display: flex;flex-direction: column;align-items: center;background-color: white;padding-right: 0.2em;padding-left: 0.2em;position: relative;}#sk-container-id-2 div.sk-item {position: relative;z-index: 1;}#sk-container-id-2 div.sk-parallel {display: flex;align-items: stretch;justify-content: center;background-color: white;position: relative;}#sk-container-id-2 div.sk-item::before, #sk-container-id-2 div.sk-parallel-item::before {content: \"\";position: absolute;border-left: 1px solid gray;box-sizing: border-box;top: 0;bottom: 0;left: 50%;z-index: -1;}#sk-container-id-2 div.sk-parallel-item {display: flex;flex-direction: column;z-index: 1;position: relative;background-color: white;}#sk-container-id-2 div.sk-parallel-item:first-child::after {align-self: flex-end;width: 50%;}#sk-container-id-2 div.sk-parallel-item:last-child::after {align-self: flex-start;width: 50%;}#sk-container-id-2 div.sk-parallel-item:only-child::after {width: 0;}#sk-container-id-2 div.sk-dashed-wrapped {border: 1px dashed gray;margin: 0 0.4em 0.5em 0.4em;box-sizing: border-box;padding-bottom: 0.4em;background-color: white;}#sk-container-id-2 div.sk-label label {font-family: monospace;font-weight: bold;display: inline-block;line-height: 1.2em;}#sk-container-id-2 div.sk-label-container {text-align: center;}#sk-container-id-2 div.sk-container {/* jupyter's `normalize.less` sets `[hidden] { display: none; }` but bootstrap.min.css set `[hidden] { display: none !important; }` so we also need the `!important` here to be able to override the default hidden behavior on the sphinx rendered scikit-learn.org. See: https://github.com/scikit-learn/scikit-learn/issues/21755 */display: inline-block !important;position: relative;}#sk-container-id-2 div.sk-text-repr-fallback {display: none;}</style><div id=\"sk-container-id-2\" class=\"sk-top-container\"><div class=\"sk-text-repr-fallback\"><pre>DummyClassifier(random_state=1, strategy=&#x27;most_frequent&#x27;)</pre><b>In a Jupyter environment, please rerun this cell to show the HTML representation or trust the notebook. <br />On GitHub, the HTML representation is unable to render, please try loading this page with nbviewer.org.</b></div><div class=\"sk-container\" hidden><div class=\"sk-item\"><div class=\"sk-estimator sk-toggleable\"><input class=\"sk-toggleable__control sk-hidden--visually\" id=\"sk-estimator-id-2\" type=\"checkbox\" checked><label for=\"sk-estimator-id-2\" class=\"sk-toggleable__label sk-toggleable__label-arrow\">DummyClassifier</label><div class=\"sk-toggleable__content\"><pre>DummyClassifier(random_state=1, strategy=&#x27;most_frequent&#x27;)</pre></div></div></div></div></div>"
      ],
      "text/plain": [
       "DummyClassifier(random_state=1, strategy='most_frequent')"
      ]
     },
     "execution_count": 10,
     "metadata": {},
     "output_type": "execute_result"
    }
   ],
   "source": [
    "# Fit the model\n",
    "dummy.fit(X_train, y_train)\n"
   ]
  },
  {
   "cell_type": "code",
   "execution_count": 11,
   "id": "f6336473-0c36-4360-8c19-d13bd5ed469c",
   "metadata": {},
   "outputs": [
    {
     "data": {
      "text/plain": [
       "array([1, 1, 1, 1, 1, 1, 1, 1, 1, 1, 1, 1, 1, 1, 1, 1, 1, 1, 1, 1, 1, 1,\n",
       "       1, 1, 1, 1, 1, 1, 1, 1])"
      ]
     },
     "execution_count": 11,
     "metadata": {},
     "output_type": "execute_result"
    }
   ],
   "source": [
    "# Predict on test data\n",
    "y_pred = dummy.predict(X_test)\n",
    "y_pred"
   ]
  },
  {
   "cell_type": "code",
   "execution_count": 12,
   "id": "a0be3cd6-b811-4720-a92b-e69d1cf21115",
   "metadata": {},
   "outputs": [
    {
     "data": {
      "text/plain": [
       "73     1\n",
       "18     0\n",
       "118    2\n",
       "78     1\n",
       "76     1\n",
       "31     0\n",
       "64     1\n",
       "141    2\n",
       "68     1\n",
       "82     1\n",
       "110    2\n",
       "12     0\n",
       "36     0\n",
       "9      0\n",
       "19     0\n",
       "56     1\n",
       "104    2\n",
       "69     1\n",
       "55     1\n",
       "132    2\n",
       "29     0\n",
       "127    2\n",
       "26     0\n",
       "128    2\n",
       "131    2\n",
       "145    2\n",
       "108    2\n",
       "143    2\n",
       "45     0\n",
       "30     0\n",
       "Name: target, dtype: int64"
      ]
     },
     "execution_count": 12,
     "metadata": {},
     "output_type": "execute_result"
    }
   ],
   "source": [
    "y_test"
   ]
  },
  {
   "cell_type": "code",
   "execution_count": 14,
   "id": "4083b44b-5785-4a15-a218-030560f9722e",
   "metadata": {},
   "outputs": [
    {
     "name": "stdout",
     "output_type": "stream",
     "text": [
      "Accuracy: 0.3416666666666667\n"
     ]
    }
   ],
   "source": [
    "# Calculate accuracy\n",
    "accuracy = dummy.score(X_train, y_train)\n",
    "print(\"Accuracy:\", accuracy)"
   ]
  },
  {
   "cell_type": "code",
   "execution_count": null,
   "id": "bb24ec03-9d58-4026-919c-9a16368e7372",
   "metadata": {},
   "outputs": [],
   "source": []
  }
 ],
 "metadata": {
  "kernelspec": {
   "display_name": "Python 3 (ipykernel)",
   "language": "python",
   "name": "python3"
  },
  "language_info": {
   "codemirror_mode": {
    "name": "ipython",
    "version": 3
   },
   "file_extension": ".py",
   "mimetype": "text/x-python",
   "name": "python",
   "nbconvert_exporter": "python",
   "pygments_lexer": "ipython3",
   "version": "3.11.4"
  }
 },
 "nbformat": 4,
 "nbformat_minor": 5
}
