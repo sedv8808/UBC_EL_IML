{
 "cells": [
  {
   "cell_type": "markdown",
   "id": "8800d674-aacb-4edd-9ad2-a355becfc74a",
   "metadata": {},
   "source": [
    "### UBC Extended Learning\n",
    "#### Instructor: Socorro Dominguez\n",
    "#### Week 02 - Module 02"
   ]
  },
  {
   "cell_type": "markdown",
   "id": "9bbc8eb8-5999-4179-9696-d219b86ffbb4",
   "metadata": {
    "tags": []
   },
   "source": [
    "- [] Broadly describe how decision trees make predictions.\n",
    "- [] Use `DecisionTreeClassifier()` and `DecisionTreeRegressor()` to build decision trees using scikit-learn.\n",
    "- [] Explain the `.fit()` and `.predict()` paradigm and use `.score()` method of ML models.\n",
    "- [] Explain the concept of decision boundaries.\n",
    "- [] Explain the difference between parameters and hyperparameters.\n",
    "- [] Explain how decision boundaries change with `max_depth`.\n",
    "- [] Explain the concept of generalization."
   ]
  },
  {
   "cell_type": "markdown",
   "id": "87269210-1ac5-4535-b493-5c8f392a8e3d",
   "metadata": {},
   "source": [
    "### How do Decision Trees Work?"
   ]
  },
  {
   "cell_type": "markdown",
   "id": "ca450774-31db-406c-9991-47ad539af353",
   "metadata": {},
   "source": [
    "- `Decision trees` are used for both classification and regression tasks.\n",
    "- They make predictions by recursively partitioning the input data into subsets and assigning a target value or class label to each subset. \n",
    "- A `Decision Tree` consists of **nodes** and **branches**.\n",
    "    - It starts with a **root node** that represents the entire `data set`.\n",
    "    - It splits (recursively) into **internal nodes**, which represent subsets of the data.\n",
    "    - The **leaves** represent the final predictions.\n",
    "\n",
    "- `Feature Selection`: At each **internal node**, the tree algorithm selects a feature from the input data to split the data set into two **child nodes**. The `feature` is chosen based on criteria such as **Gini impurity** or **entropy** which measures the quality of the split in terms of **class homogeneity**.\n",
    "\n",
    "- `Recursive Splitting`: The data is divided into subsets based on the selected **feature** and **split point**. The process continues recursively for each child node, creating a hierarchical structure of nodes and branches until a **stopping condition** is met.\n",
    "\n",
    "- `Stopping Conditions`: They may include reaching a **predefined depth** of the tree, having a **minimum number of data points** in a node, or **achieving a purity threshold** for classification tasks.\n",
    "\n",
    "- `Leaf Node Predictions`: Each **leaf node** is associated with a specific **class label** or a predicted **target value**.\n",
    "    - The predictions are made based on the **majority class** or the **mean target value**.\n",
    "\n",
    "- `Prediction Process`: To make a prediction for a new, unseen data point, the decision tree goes through the whole tree structure, starting from the root and following the splits based on the values of the input features - landing into a leaf node. The **prediction** associated with that **leaf node** is returned as the final prediction for the input data point."
   ]
  },
  {
   "cell_type": "markdown",
   "id": "cf9c8c41-f6e2-4a40-8f0b-882a38e8f63b",
   "metadata": {},
   "source": [
    "One of the most popular methods is called **Gini Impurity**, but there are other methods such as **Entropy**"
   ]
  },
  {
   "cell_type": "markdown",
   "id": "4f371931-7c05-4f5b-9f15-ff85c835fed1",
   "metadata": {},
   "source": [
    "$GINI = 1 -\\frac{(Number for Yes)^2}{(Total for the Leaf)} -\\frac{(Number for No)^2}{(Total for the Leaf)}$"
   ]
  },
  {
   "cell_type": "markdown",
   "id": "dbd44771-1194-4e33-8542-b38b148431a6",
   "metadata": {},
   "source": [
    "Generally speaking, the output of a Leaf is whatever category that has the most counts."
   ]
  },
  {
   "cell_type": "markdown",
   "id": "f13d2b69-6366-4a82-b7eb-0c8ae6e0a2e5",
   "metadata": {},
   "source": [
    "![](https://i.stack.imgur.com/FgdfC.jpg)"
   ]
  },
  {
   "cell_type": "markdown",
   "id": "c95e7b12-b744-494d-a327-3e5df142412a",
   "metadata": {},
   "source": [
    "`max_depth`\n",
    "- We can put limits on how trees grow, for example, by requiring 3 or more people per Leaf. If we did that with our Training Data, we would end up with a different tree, that might be more impure.\n",
    "- But we would also have a better sense of the accuracy of our prediction.\n",
    "- max_depth allows us to change up to when we want a tree to grow."
   ]
  },
  {
   "cell_type": "markdown",
   "id": "60af3c83-9154-4ec0-b8eb-f3136ad3459d",
   "metadata": {},
   "source": [
    "Is `max_depth` a parameter or a hyperparameter?"
   ]
  },
  {
   "cell_type": "markdown",
   "id": "42fd6cf3-92b0-4392-9c0a-de2601b76aad",
   "metadata": {},
   "source": [
    "- In `sklearn` you will see max_depth as a parameter. But, in the sklearn documentation, `parameter` stands for the programming standard of an \"argument\" in a function. \n",
    "- `max_depth` is a hyperparameter in ML terms but a parameter in coding terms. We will refer to it based on its ML term.\n",
    "\n",
    "- Hyperparameters are widgets we can manipulate and play with to improve our tree/algorithm. Parameters are trainable elements in the equation (intercepts and bias)."
   ]
  },
  {
   "cell_type": "markdown",
   "id": "c9e35778-62a8-43a4-b068-446089524aba",
   "metadata": {},
   "source": [
    "#### Generalization"
   ]
  },
  {
   "cell_type": "markdown",
   "id": "713afbc1-e26f-43f0-9eba-02ebfe58d779",
   "metadata": {},
   "source": [
    "![](img/overfitting.png)"
   ]
  },
  {
   "cell_type": "code",
   "execution_count": 1,
   "id": "2ff89855-c696-4098-8a77-f68b3b4a620f",
   "metadata": {},
   "outputs": [],
   "source": [
    "# Import necessary libraries\n",
    "import pandas as pd\n",
    "from sklearn.datasets import load_iris\n",
    "from sklearn.tree import DecisionTreeClassifier\n",
    "from sklearn.model_selection import train_test_split\n",
    "from sklearn.metrics import accuracy_score"
   ]
  },
  {
   "cell_type": "code",
   "execution_count": 2,
   "id": "aafa2e18-0a35-4ad4-a7d9-9b90b4f3a1c7",
   "metadata": {},
   "outputs": [
    {
     "data": {
      "text/html": [
       "<div>\n",
       "<style scoped>\n",
       "    .dataframe tbody tr th:only-of-type {\n",
       "        vertical-align: middle;\n",
       "    }\n",
       "\n",
       "    .dataframe tbody tr th {\n",
       "        vertical-align: top;\n",
       "    }\n",
       "\n",
       "    .dataframe thead th {\n",
       "        text-align: right;\n",
       "    }\n",
       "</style>\n",
       "<table border=\"1\" class=\"dataframe\">\n",
       "  <thead>\n",
       "    <tr style=\"text-align: right;\">\n",
       "      <th></th>\n",
       "      <th>sepal length (cm)</th>\n",
       "      <th>sepal width (cm)</th>\n",
       "      <th>petal length (cm)</th>\n",
       "      <th>petal width (cm)</th>\n",
       "      <th>target</th>\n",
       "    </tr>\n",
       "  </thead>\n",
       "  <tbody>\n",
       "    <tr>\n",
       "      <th>0</th>\n",
       "      <td>5.1</td>\n",
       "      <td>3.5</td>\n",
       "      <td>1.4</td>\n",
       "      <td>0.2</td>\n",
       "      <td>0</td>\n",
       "    </tr>\n",
       "    <tr>\n",
       "      <th>1</th>\n",
       "      <td>4.9</td>\n",
       "      <td>3.0</td>\n",
       "      <td>1.4</td>\n",
       "      <td>0.2</td>\n",
       "      <td>0</td>\n",
       "    </tr>\n",
       "    <tr>\n",
       "      <th>2</th>\n",
       "      <td>4.7</td>\n",
       "      <td>3.2</td>\n",
       "      <td>1.3</td>\n",
       "      <td>0.2</td>\n",
       "      <td>0</td>\n",
       "    </tr>\n",
       "    <tr>\n",
       "      <th>3</th>\n",
       "      <td>4.6</td>\n",
       "      <td>3.1</td>\n",
       "      <td>1.5</td>\n",
       "      <td>0.2</td>\n",
       "      <td>0</td>\n",
       "    </tr>\n",
       "    <tr>\n",
       "      <th>4</th>\n",
       "      <td>5.0</td>\n",
       "      <td>3.6</td>\n",
       "      <td>1.4</td>\n",
       "      <td>0.2</td>\n",
       "      <td>0</td>\n",
       "    </tr>\n",
       "  </tbody>\n",
       "</table>\n",
       "</div>"
      ],
      "text/plain": [
       "   sepal length (cm)  sepal width (cm)  petal length (cm)  petal width (cm)   \n",
       "0                5.1               3.5                1.4               0.2  \\\n",
       "1                4.9               3.0                1.4               0.2   \n",
       "2                4.7               3.2                1.3               0.2   \n",
       "3                4.6               3.1                1.5               0.2   \n",
       "4                5.0               3.6                1.4               0.2   \n",
       "\n",
       "   target  \n",
       "0       0  \n",
       "1       0  \n",
       "2       0  \n",
       "3       0  \n",
       "4       0  "
      ]
     },
     "execution_count": 2,
     "metadata": {},
     "output_type": "execute_result"
    }
   ],
   "source": [
    "# Load the Iris dataset\n",
    "iris = load_iris()\n",
    "\n",
    "# Create a DataFrame for the Iris dataset\n",
    "iris_df = pd.DataFrame(data=iris.data, columns=iris.feature_names)\n",
    "iris_df['target'] = iris.target\n",
    "iris_df.head()"
   ]
  },
  {
   "cell_type": "code",
   "execution_count": 3,
   "id": "be2df8d2-3b03-4b43-8413-c427473b736d",
   "metadata": {},
   "outputs": [],
   "source": [
    "# Split the DataFrame into features (X) and target labels (y)\n",
    "X = iris_df.drop(columns=['target'])\n",
    "y = iris_df['target']\n",
    "\n",
    "# Split the data into training and testing sets\n",
    "X_train, X_test, y_train, y_test = train_test_split(X, y, test_size=0.3, random_state=42)"
   ]
  },
  {
   "cell_type": "markdown",
   "id": "8da89a6a-2731-4a00-892f-cbe1fa3eba49",
   "metadata": {},
   "source": [
    "```python\n",
    "df_train, df_test = train_test_split(df, test_size = .2)\n",
    "```"
   ]
  },
  {
   "cell_type": "code",
   "execution_count": 4,
   "id": "c48804cc-0aef-4709-aebc-6125447803b0",
   "metadata": {
    "scrolled": true
   },
   "outputs": [
    {
     "data": {
      "text/html": [
       "<style>#sk-container-id-1 {color: black;background-color: white;}#sk-container-id-1 pre{padding: 0;}#sk-container-id-1 div.sk-toggleable {background-color: white;}#sk-container-id-1 label.sk-toggleable__label {cursor: pointer;display: block;width: 100%;margin-bottom: 0;padding: 0.3em;box-sizing: border-box;text-align: center;}#sk-container-id-1 label.sk-toggleable__label-arrow:before {content: \"▸\";float: left;margin-right: 0.25em;color: #696969;}#sk-container-id-1 label.sk-toggleable__label-arrow:hover:before {color: black;}#sk-container-id-1 div.sk-estimator:hover label.sk-toggleable__label-arrow:before {color: black;}#sk-container-id-1 div.sk-toggleable__content {max-height: 0;max-width: 0;overflow: hidden;text-align: left;background-color: #f0f8ff;}#sk-container-id-1 div.sk-toggleable__content pre {margin: 0.2em;color: black;border-radius: 0.25em;background-color: #f0f8ff;}#sk-container-id-1 input.sk-toggleable__control:checked~div.sk-toggleable__content {max-height: 200px;max-width: 100%;overflow: auto;}#sk-container-id-1 input.sk-toggleable__control:checked~label.sk-toggleable__label-arrow:before {content: \"▾\";}#sk-container-id-1 div.sk-estimator input.sk-toggleable__control:checked~label.sk-toggleable__label {background-color: #d4ebff;}#sk-container-id-1 div.sk-label input.sk-toggleable__control:checked~label.sk-toggleable__label {background-color: #d4ebff;}#sk-container-id-1 input.sk-hidden--visually {border: 0;clip: rect(1px 1px 1px 1px);clip: rect(1px, 1px, 1px, 1px);height: 1px;margin: -1px;overflow: hidden;padding: 0;position: absolute;width: 1px;}#sk-container-id-1 div.sk-estimator {font-family: monospace;background-color: #f0f8ff;border: 1px dotted black;border-radius: 0.25em;box-sizing: border-box;margin-bottom: 0.5em;}#sk-container-id-1 div.sk-estimator:hover {background-color: #d4ebff;}#sk-container-id-1 div.sk-parallel-item::after {content: \"\";width: 100%;border-bottom: 1px solid gray;flex-grow: 1;}#sk-container-id-1 div.sk-label:hover label.sk-toggleable__label {background-color: #d4ebff;}#sk-container-id-1 div.sk-serial::before {content: \"\";position: absolute;border-left: 1px solid gray;box-sizing: border-box;top: 0;bottom: 0;left: 50%;z-index: 0;}#sk-container-id-1 div.sk-serial {display: flex;flex-direction: column;align-items: center;background-color: white;padding-right: 0.2em;padding-left: 0.2em;position: relative;}#sk-container-id-1 div.sk-item {position: relative;z-index: 1;}#sk-container-id-1 div.sk-parallel {display: flex;align-items: stretch;justify-content: center;background-color: white;position: relative;}#sk-container-id-1 div.sk-item::before, #sk-container-id-1 div.sk-parallel-item::before {content: \"\";position: absolute;border-left: 1px solid gray;box-sizing: border-box;top: 0;bottom: 0;left: 50%;z-index: -1;}#sk-container-id-1 div.sk-parallel-item {display: flex;flex-direction: column;z-index: 1;position: relative;background-color: white;}#sk-container-id-1 div.sk-parallel-item:first-child::after {align-self: flex-end;width: 50%;}#sk-container-id-1 div.sk-parallel-item:last-child::after {align-self: flex-start;width: 50%;}#sk-container-id-1 div.sk-parallel-item:only-child::after {width: 0;}#sk-container-id-1 div.sk-dashed-wrapped {border: 1px dashed gray;margin: 0 0.4em 0.5em 0.4em;box-sizing: border-box;padding-bottom: 0.4em;background-color: white;}#sk-container-id-1 div.sk-label label {font-family: monospace;font-weight: bold;display: inline-block;line-height: 1.2em;}#sk-container-id-1 div.sk-label-container {text-align: center;}#sk-container-id-1 div.sk-container {/* jupyter's `normalize.less` sets `[hidden] { display: none; }` but bootstrap.min.css set `[hidden] { display: none !important; }` so we also need the `!important` here to be able to override the default hidden behavior on the sphinx rendered scikit-learn.org. See: https://github.com/scikit-learn/scikit-learn/issues/21755 */display: inline-block !important;position: relative;}#sk-container-id-1 div.sk-text-repr-fallback {display: none;}</style><div id=\"sk-container-id-1\" class=\"sk-top-container\"><div class=\"sk-text-repr-fallback\"><pre>DecisionTreeClassifier(max_depth=1, random_state=42)</pre><b>In a Jupyter environment, please rerun this cell to show the HTML representation or trust the notebook. <br />On GitHub, the HTML representation is unable to render, please try loading this page with nbviewer.org.</b></div><div class=\"sk-container\" hidden><div class=\"sk-item\"><div class=\"sk-estimator sk-toggleable\"><input class=\"sk-toggleable__control sk-hidden--visually\" id=\"sk-estimator-id-1\" type=\"checkbox\" checked><label for=\"sk-estimator-id-1\" class=\"sk-toggleable__label sk-toggleable__label-arrow\">DecisionTreeClassifier</label><div class=\"sk-toggleable__content\"><pre>DecisionTreeClassifier(max_depth=1, random_state=42)</pre></div></div></div></div></div>"
      ],
      "text/plain": [
       "DecisionTreeClassifier(max_depth=1, random_state=42)"
      ]
     },
     "execution_count": 4,
     "metadata": {},
     "output_type": "execute_result"
    }
   ],
   "source": [
    "# Create a Decision Tree Classifier\n",
    "clf = DecisionTreeClassifier(max_depth = 1, random_state=42)\n",
    "\n",
    "# Train (fit) the classifier on the training data\n",
    "clf.fit(X_train, y_train)"
   ]
  },
  {
   "cell_type": "code",
   "execution_count": 5,
   "id": "444d15c1-7f60-45c9-abd4-520bad2211a3",
   "metadata": {},
   "outputs": [
    {
     "data": {
      "text/html": [
       "<div>\n",
       "<style scoped>\n",
       "    .dataframe tbody tr th:only-of-type {\n",
       "        vertical-align: middle;\n",
       "    }\n",
       "\n",
       "    .dataframe tbody tr th {\n",
       "        vertical-align: top;\n",
       "    }\n",
       "\n",
       "    .dataframe thead th {\n",
       "        text-align: right;\n",
       "    }\n",
       "</style>\n",
       "<table border=\"1\" class=\"dataframe\">\n",
       "  <thead>\n",
       "    <tr style=\"text-align: right;\">\n",
       "      <th></th>\n",
       "      <th>sepal length (cm)</th>\n",
       "      <th>sepal width (cm)</th>\n",
       "      <th>petal length (cm)</th>\n",
       "      <th>petal width (cm)</th>\n",
       "    </tr>\n",
       "  </thead>\n",
       "  <tbody>\n",
       "    <tr>\n",
       "      <th>73</th>\n",
       "      <td>6.1</td>\n",
       "      <td>2.8</td>\n",
       "      <td>4.7</td>\n",
       "      <td>1.2</td>\n",
       "    </tr>\n",
       "  </tbody>\n",
       "</table>\n",
       "</div>"
      ],
      "text/plain": [
       "    sepal length (cm)  sepal width (cm)  petal length (cm)  petal width (cm)\n",
       "73                6.1               2.8                4.7               1.2"
      ]
     },
     "execution_count": 5,
     "metadata": {},
     "output_type": "execute_result"
    }
   ],
   "source": [
    "new_obs = X_test.iloc[[0]]\n",
    "new_obs"
   ]
  },
  {
   "cell_type": "code",
   "execution_count": 6,
   "id": "3e7340e0-eac5-4a2e-be58-56534aa4d5b3",
   "metadata": {},
   "outputs": [
    {
     "data": {
      "text/plain": [
       "array([1])"
      ]
     },
     "execution_count": 6,
     "metadata": {},
     "output_type": "execute_result"
    }
   ],
   "source": [
    "clf.predict(new_obs)"
   ]
  },
  {
   "cell_type": "code",
   "execution_count": 7,
   "id": "a3a48ba7-08c5-4d42-9a4c-13d6e74cff2c",
   "metadata": {},
   "outputs": [
    {
     "data": {
      "text/plain": [
       "73    1\n",
       "Name: target, dtype: int64"
      ]
     },
     "execution_count": 7,
     "metadata": {},
     "output_type": "execute_result"
    }
   ],
   "source": [
    "y_test.iloc[[0]]"
   ]
  },
  {
   "cell_type": "code",
   "execution_count": 8,
   "id": "f744ef7d-2dae-442e-a5d8-2f8746f2fe7e",
   "metadata": {},
   "outputs": [
    {
     "name": "stdout",
     "output_type": "stream",
     "text": [
      "Test Accuracy: 0.7111111111111111\n",
      "Train Accuracy: 0.6476190476190476\n"
     ]
    }
   ],
   "source": [
    "# Make predictions on all the test data\n",
    "y_pred = clf.predict(X_test)\n",
    "\n",
    "# Calculate the accuracy of the classifier\n",
    "accuracy_test = clf.score(X_test, y_test)\n",
    "accuracy_train = clf.score(X_train, y_train)\n",
    "\n",
    "# Print the accuracy\n",
    "print(f\"Test Accuracy: {accuracy_test}\")\n",
    "print(f\"Train Accuracy: {accuracy_train}\")"
   ]
  },
  {
   "cell_type": "code",
   "execution_count": null,
   "id": "aafe1cad-0f86-48c8-bb3f-dc85f5c2b535",
   "metadata": {},
   "outputs": [],
   "source": []
  },
  {
   "cell_type": "code",
   "execution_count": 9,
   "id": "3e94f4a6-7ebc-4755-b756-dcbc4ae78ed3",
   "metadata": {},
   "outputs": [
    {
     "ename": "NameError",
     "evalue": "name 'DummyClassifier' is not defined",
     "output_type": "error",
     "traceback": [
      "\u001b[0;31m---------------------------------------------------------------------------\u001b[0m",
      "\u001b[0;31mNameError\u001b[0m                                 Traceback (most recent call last)",
      "Cell \u001b[0;32mIn[9], line 4\u001b[0m\n\u001b[1;32m      1\u001b[0m strategies \u001b[38;5;241m=\u001b[39m [\u001b[38;5;124m'\u001b[39m\u001b[38;5;124ma\u001b[39m\u001b[38;5;124m'\u001b[39m, \u001b[38;5;124m'\u001b[39m\u001b[38;5;124mb\u001b[39m\u001b[38;5;124m'\u001b[39m, \u001b[38;5;124m'\u001b[39m\u001b[38;5;124mc\u001b[39m\u001b[38;5;124m'\u001b[39m]\n\u001b[1;32m      3\u001b[0m \u001b[38;5;28;01mfor\u001b[39;00m strategy \u001b[38;5;129;01min\u001b[39;00m strategies:\n\u001b[0;32m----> 4\u001b[0m     clf \u001b[38;5;241m=\u001b[39m \u001b[43mDummyClassifier\u001b[49m(strategy \u001b[38;5;241m=\u001b[39m strategy)\n\u001b[1;32m      5\u001b[0m     clf\u001b[38;5;241m.\u001b[39mfit(X, y)\n",
      "\u001b[0;31mNameError\u001b[0m: name 'DummyClassifier' is not defined"
     ]
    }
   ],
   "source": [
    "strategies = ['a', 'b', 'c']\n",
    "\n",
    "for strategy in strategies:\n",
    "    clf = DummyClassifier(strategy = strategy)\n",
    "    clf.fit(X, y)"
   ]
  },
  {
   "cell_type": "code",
   "execution_count": null,
   "id": "3566b5fa-9770-494b-b9cc-d31ec521aaca",
   "metadata": {},
   "outputs": [],
   "source": []
  },
  {
   "cell_type": "code",
   "execution_count": null,
   "id": "d81ce2eb-447f-4f49-8988-68f005ffb7b1",
   "metadata": {},
   "outputs": [],
   "source": []
  },
  {
   "cell_type": "code",
   "execution_count": null,
   "id": "96e23baf-ed6a-4be2-9249-f13f0c471689",
   "metadata": {},
   "outputs": [],
   "source": []
  },
  {
   "cell_type": "code",
   "execution_count": null,
   "id": "46e4bc3a-72e6-4a87-bcc7-fc3c643d6222",
   "metadata": {},
   "outputs": [],
   "source": []
  },
  {
   "cell_type": "code",
   "execution_count": null,
   "id": "1316ce44-5f84-4bde-a8ff-fb94b1fcb991",
   "metadata": {},
   "outputs": [],
   "source": [
    "import numpy as np\n",
    "\n",
    "\n",
    "np.random.seed(3)\n",
    "np.random.rand()"
   ]
  },
  {
   "cell_type": "code",
   "execution_count": null,
   "id": "1e55632f-6d84-4d17-8324-228625a3f86c",
   "metadata": {},
   "outputs": [],
   "source": [
    "np.random.rand()"
   ]
  },
  {
   "cell_type": "code",
   "execution_count": 16,
   "id": "6d7a7e18-5a3d-4518-8077-693d03dd5f7f",
   "metadata": {},
   "outputs": [
    {
     "data": {
      "text/html": [
       "<div>\n",
       "<style scoped>\n",
       "    .dataframe tbody tr th:only-of-type {\n",
       "        vertical-align: middle;\n",
       "    }\n",
       "\n",
       "    .dataframe tbody tr th {\n",
       "        vertical-align: top;\n",
       "    }\n",
       "\n",
       "    .dataframe thead th {\n",
       "        text-align: right;\n",
       "    }\n",
       "</style>\n",
       "<table border=\"1\" class=\"dataframe\">\n",
       "  <thead>\n",
       "    <tr style=\"text-align: right;\">\n",
       "      <th></th>\n",
       "      <th>sepal length (cm)</th>\n",
       "      <th>sepal width (cm)</th>\n",
       "      <th>petal length (cm)</th>\n",
       "      <th>petal width (cm)</th>\n",
       "    </tr>\n",
       "  </thead>\n",
       "  <tbody>\n",
       "    <tr>\n",
       "      <th>96</th>\n",
       "      <td>5.7</td>\n",
       "      <td>2.9</td>\n",
       "      <td>4.2</td>\n",
       "      <td>1.3</td>\n",
       "    </tr>\n",
       "    <tr>\n",
       "      <th>32</th>\n",
       "      <td>5.2</td>\n",
       "      <td>4.1</td>\n",
       "      <td>1.5</td>\n",
       "      <td>0.1</td>\n",
       "    </tr>\n",
       "    <tr>\n",
       "      <th>31</th>\n",
       "      <td>5.4</td>\n",
       "      <td>3.4</td>\n",
       "      <td>1.5</td>\n",
       "      <td>0.4</td>\n",
       "    </tr>\n",
       "    <tr>\n",
       "      <th>113</th>\n",
       "      <td>5.7</td>\n",
       "      <td>2.5</td>\n",
       "      <td>5.0</td>\n",
       "      <td>2.0</td>\n",
       "    </tr>\n",
       "    <tr>\n",
       "      <th>49</th>\n",
       "      <td>5.0</td>\n",
       "      <td>3.3</td>\n",
       "      <td>1.4</td>\n",
       "      <td>0.2</td>\n",
       "    </tr>\n",
       "    <tr>\n",
       "      <th>...</th>\n",
       "      <td>...</td>\n",
       "      <td>...</td>\n",
       "      <td>...</td>\n",
       "      <td>...</td>\n",
       "    </tr>\n",
       "    <tr>\n",
       "      <th>139</th>\n",
       "      <td>6.9</td>\n",
       "      <td>3.1</td>\n",
       "      <td>5.4</td>\n",
       "      <td>2.1</td>\n",
       "    </tr>\n",
       "    <tr>\n",
       "      <th>68</th>\n",
       "      <td>6.2</td>\n",
       "      <td>2.2</td>\n",
       "      <td>4.5</td>\n",
       "      <td>1.5</td>\n",
       "    </tr>\n",
       "    <tr>\n",
       "      <th>4</th>\n",
       "      <td>5.0</td>\n",
       "      <td>3.6</td>\n",
       "      <td>1.4</td>\n",
       "      <td>0.2</td>\n",
       "    </tr>\n",
       "    <tr>\n",
       "      <th>84</th>\n",
       "      <td>5.4</td>\n",
       "      <td>3.0</td>\n",
       "      <td>4.5</td>\n",
       "      <td>1.5</td>\n",
       "    </tr>\n",
       "    <tr>\n",
       "      <th>19</th>\n",
       "      <td>5.1</td>\n",
       "      <td>3.8</td>\n",
       "      <td>1.5</td>\n",
       "      <td>0.3</td>\n",
       "    </tr>\n",
       "  </tbody>\n",
       "</table>\n",
       "<p>105 rows × 4 columns</p>\n",
       "</div>"
      ],
      "text/plain": [
       "     sepal length (cm)  sepal width (cm)  petal length (cm)  petal width (cm)\n",
       "96                 5.7               2.9                4.2               1.3\n",
       "32                 5.2               4.1                1.5               0.1\n",
       "31                 5.4               3.4                1.5               0.4\n",
       "113                5.7               2.5                5.0               2.0\n",
       "49                 5.0               3.3                1.4               0.2\n",
       "..                 ...               ...                ...               ...\n",
       "139                6.9               3.1                5.4               2.1\n",
       "68                 6.2               2.2                4.5               1.5\n",
       "4                  5.0               3.6                1.4               0.2\n",
       "84                 5.4               3.0                4.5               1.5\n",
       "19                 5.1               3.8                1.5               0.3\n",
       "\n",
       "[105 rows x 4 columns]"
      ]
     },
     "execution_count": 16,
     "metadata": {},
     "output_type": "execute_result"
    }
   ],
   "source": [
    "X_train, X_test, y_train, y_test = train_test_split(X, y, test_size=0.3, random_state=342)\n",
    "X_train"
   ]
  },
  {
   "cell_type": "code",
   "execution_count": null,
   "id": "6c685b8e-00f4-4ae2-9dec-0b7c8fecec4d",
   "metadata": {},
   "outputs": [],
   "source": []
  }
 ],
 "metadata": {
  "kernelspec": {
   "display_name": "Python 3 (ipykernel)",
   "language": "python",
   "name": "python3"
  },
  "language_info": {
   "codemirror_mode": {
    "name": "ipython",
    "version": 3
   },
   "file_extension": ".py",
   "mimetype": "text/x-python",
   "name": "python",
   "nbconvert_exporter": "python",
   "pygments_lexer": "ipython3",
   "version": "3.11.4"
  }
 },
 "nbformat": 4,
 "nbformat_minor": 5
}
