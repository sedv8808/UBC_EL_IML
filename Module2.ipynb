{
 "cells": [
  {
   "cell_type": "markdown",
   "id": "8800d674-aacb-4edd-9ad2-a355becfc74a",
   "metadata": {},
   "source": [
    "### UBC Extended Learning\n",
    "#### Instructor: Socorro Dominguez\n",
    "#### Module 02\n",
    "##### Material taken from The StatQuest Illustrated Guide to Machine Learning!!! Triple BAM!"
   ]
  },
  {
   "cell_type": "markdown",
   "id": "9bbc8eb8-5999-4179-9696-d219b86ffbb4",
   "metadata": {
    "tags": []
   },
   "source": [
    "- [] Broadly describe how decision trees make predictions.\n",
    "- [] Use DecisionTreeClassifier() and DecisionTreeRegressor() to build decision trees using scikit-learn.\n",
    "- [] Explain the .fit() and .predict() paradigm and use .score() method of ML models.\n",
    "- [] Explain the concept of decision boundaries.\n",
    "- [] Explain the difference between parameters and hyperparameters.\n",
    "- [] Explain how decision boundaries change with max_depth.\n",
    "- [] Explain the concept of generalization."
   ]
  },
  {
   "cell_type": "markdown",
   "id": "ca450774-31db-406c-9991-47ad539af353",
   "metadata": {},
   "source": [
    "`fit` and `predict`"
   ]
  },
  {
   "cell_type": "markdown",
   "id": "079f12b1-3e96-43d2-bd59-cd2b021b522f",
   "metadata": {},
   "source": [
    "![](img/fit.png)"
   ]
  },
  {
   "cell_type": "markdown",
   "id": "0c532510-78cd-4c1d-8f21-16ed76eb355d",
   "metadata": {},
   "source": [
    "![](img/predict.png)"
   ]
  },
  {
   "cell_type": "markdown",
   "id": "14c9366a-1d66-4956-b94f-55d7976bb0cf",
   "metadata": {},
   "source": [
    "#### Decision Trees"
   ]
  },
  {
   "cell_type": "markdown",
   "id": "6d81fb3e-6dd9-48f6-8e05-210af8c2cc0e",
   "metadata": {},
   "source": [
    "There are two types of Trees in Machine Learning: \n",
    "- trees for Classification \n",
    "- trees for Regression."
   ]
  },
  {
   "cell_type": "markdown",
   "id": "c327945e-f879-4ca7-9b5c-f89d5ef08a9f",
   "metadata": {},
   "source": [
    "![](img/CT.png)\n",
    "\n",
    "![](img/RT.png)"
   ]
  },
  {
   "cell_type": "markdown",
   "id": "0ca89264-3f50-4166-9a31-6b2909807f90",
   "metadata": {},
   "source": [
    "**The Problem:**\n",
    "We have a mixture of discrete and continuous data that we want to use to predict if someone loves Troll 2"
   ]
  },
  {
   "cell_type": "markdown",
   "id": "f4060e4f-97b9-4c33-b954-b026290b9fe5",
   "metadata": {},
   "source": [
    "![](img/troll.png)"
   ]
  },
  {
   "cell_type": "markdown",
   "id": "3aa21343-421b-41dd-aa13-380489c16b80",
   "metadata": {},
   "source": [
    "**A Solution:** A Classification Tree, which can handle all types of data, all types of relationships among the independent variables (the data we’re using to make\n",
    "predictions, like Loves Soda and Age), and all kinds of relationships with the dependent variable (the thing we want to predict, which in this case is Loves Troll 2)."
   ]
  },
  {
   "cell_type": "markdown",
   "id": "27a39f11-717b-4746-918e-3c09a2ccbd61",
   "metadata": {},
   "source": [
    "![](img/solution.png)"
   ]
  },
  {
   "cell_type": "markdown",
   "id": "b684c2f2-1d8f-4b15-b4de-c22f62cfd6b9",
   "metadata": {},
   "source": [
    "Leaves that contain mixtures of classifications are called **Impure**."
   ]
  },
  {
   "cell_type": "markdown",
   "id": "cf9c8c41-f6e2-4a40-8f0b-882a38e8f63b",
   "metadata": {},
   "source": [
    "One of the most popular methods is called **Gini Impurity**, but there are other methods such as **Entropy**"
   ]
  },
  {
   "cell_type": "markdown",
   "id": "4f371931-7c05-4f5b-9f15-ff85c835fed1",
   "metadata": {},
   "source": [
    "$GINI = 1 -\\frac{(Number for Yes)^2}{(Total for the Leaf)} -\\frac{(Number for No)^2}{(Total for the Leaf)}$"
   ]
  },
  {
   "cell_type": "markdown",
   "id": "dbd44771-1194-4e33-8542-b38b148431a6",
   "metadata": {},
   "source": [
    "Generally speaking, the output of a Leaf is whatever category that has the most counts."
   ]
  },
  {
   "cell_type": "markdown",
   "id": "f13d2b69-6366-4a82-b7eb-0c8ae6e0a2e5",
   "metadata": {},
   "source": [
    "![](https://i.stack.imgur.com/FgdfC.jpg)"
   ]
  },
  {
   "cell_type": "markdown",
   "id": "c95e7b12-b744-494d-a327-3e5df142412a",
   "metadata": {},
   "source": [
    "`max_depth`\n",
    "- We can put limits on how trees grow, for example, by requiring 3 or more people per Leaf. If we did that with our Training Data, we would end up with a different tree, that might be more impure.\n",
    "- But we would also have a better sense of the accuracy of our prediction.\n",
    "- max_depth allows us to change up to when we want a tree to grow."
   ]
  },
  {
   "cell_type": "markdown",
   "id": "60af3c83-9154-4ec0-b8eb-f3136ad3459d",
   "metadata": {},
   "source": [
    "Is `max_depth` a parameter or a hyperparameter?"
   ]
  },
  {
   "cell_type": "markdown",
   "id": "42fd6cf3-92b0-4392-9c0a-de2601b76aad",
   "metadata": {},
   "source": [
    "- In `sklearn` you will see max_depth as a parameter. But, in the sklearn documentation, `parameter` stands for the programming standard of an \"argument\" in a function. \n",
    "- `max_depth` is a hyperparameter in ML terms but a parameter in coding terms. We will refer to it based on its ML term.\n",
    "\n",
    "- Hyperparameters are widgets we can manipulate and play with to improve our tree/algorithm. Parameters are trainable elements in the equation (intercepts and bias)."
   ]
  },
  {
   "cell_type": "markdown",
   "id": "c9e35778-62a8-43a4-b068-446089524aba",
   "metadata": {},
   "source": [
    "#### Generalization"
   ]
  },
  {
   "cell_type": "markdown",
   "id": "713afbc1-e26f-43f0-9eba-02ebfe58d779",
   "metadata": {},
   "source": [
    "![](img/overfitting.png)"
   ]
  },
  {
   "cell_type": "code",
   "execution_count": null,
   "id": "2ff89855-c696-4098-8a77-f68b3b4a620f",
   "metadata": {},
   "outputs": [],
   "source": []
  }
 ],
 "metadata": {
  "kernelspec": {
   "display_name": "Python 3 (ipykernel)",
   "language": "python",
   "name": "python3"
  },
  "language_info": {
   "codemirror_mode": {
    "name": "ipython",
    "version": 3
   },
   "file_extension": ".py",
   "mimetype": "text/x-python",
   "name": "python",
   "nbconvert_exporter": "python",
   "pygments_lexer": "ipython3",
   "version": "3.9.12"
  }
 },
 "nbformat": 4,
 "nbformat_minor": 5
}
